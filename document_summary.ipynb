{
 "cells": [
  {
   "cell_type": "code",
   "execution_count": null,
   "id": "d5858a39-adcb-4957-9266-20e4aa71721d",
   "metadata": {},
   "outputs": [],
   "source": [
    "import pandas as pd\n",
    "import os\n",
    "from openai import OpenAI"
   ]
  },
  {
   "cell_type": "code",
   "execution_count": null,
   "id": "6be308b5-5323-47e9-ac4e-2da775463452",
   "metadata": {},
   "outputs": [],
   "source": [
    "client = OpenAI()"
   ]
  },
  {
   "cell_type": "code",
   "execution_count": 3,
   "id": "38173158-bfb1-4cd8-ac6d-23428d142ae9",
   "metadata": {},
   "outputs": [],
   "source": [
    "#create a function to read a file if file not found raise an excetpion\n",
    "def load_file(file_path):\n",
    "    if not os.path.exists(file_path):\n",
    "        raise FileNotFoundError(f\"File not found at the location:{file_path}\")\n",
    "    with open(file_path, 'r', encoding='utf-8') as file:\n",
    "        document_text = file.read()                        \n",
    "    return document_text"
   ]
  },
  {
   "cell_type": "code",
   "execution_count": 4,
   "id": "a173eba1-a1ba-46e9-a913-fb379b533184",
   "metadata": {},
   "outputs": [],
   "source": [
    "#Create a fucntion to chunking the file\n",
    "def summarize_text(text, model=\"gpt-3.5-turbo\", size=500):\n",
    "    chunks = [text[i:i+size] for i in range(0, len(text),size)]\n",
    "    \n",
    "    summary=\"\"\n",
    "    for chunk in chunks:\n",
    "        completion = client.chat.completions.create(\n",
    "            messages = [\n",
    "                {\"role\": \"system\", \"content\": \"You are an expert summarizer.\"},\n",
    "                {\"role\": \"user\", \"content\":f\"Summarize the following text in no more than 5 sentences, focusing only on the key points\\n\\n{chunk}\"}\n",
    "            ],\n",
    "            model=model,\n",
    "        )\n",
    "        chunk_summary = completion.choices[0].message.content.strip()\n",
    "        summary+=chunk_summary +\" \"\n",
    "    return summary.strip()"
   ]
  },
  {
   "cell_type": "code",
   "execution_count": 5,
   "id": "489fcb20-67dd-4a14-9e01-c880cd305ed5",
   "metadata": {},
   "outputs": [],
   "source": [
    "#Create summarize_document function \n",
    "def summarize_file(file_path, model=\"gpt-3.5-turbo\"):\n",
    "    text = load_file(file_path)\n",
    "    summary = summarize_text(text, model)\n",
    "    return summary"
   ]
  },
  {
   "cell_type": "code",
   "execution_count": 6,
   "id": "ad4b92b0-155c-42d1-b076-a67d0c2b4eb8",
   "metadata": {},
   "outputs": [
    {
     "name": "stdout",
     "output_type": "stream",
     "text": [
      "Document Summary:\n",
      "The document discusses how Artificial Intelligence (AI) is shaping modern society across sectors like healthcare, finance, transportation, and education. AI is driving innovation and creating new opportunities in these industries. However, there are challenges and ethical concerns associated with the widespread adoption of AI that need to be addressed. The document aims to explore and understand the impact of AI on society as a whole, emphasizing the need for responsible development and implementation of AI technologies. AI has transformed healthcare through improved diagnostics, patient care, and administrative efficiency. Machine learning algorithms enable early disease detection and personalized treatment plans by analyzing extensive medical data. AI tools can detect patterns in medical images, enhancing accuracy and speed of diagnoses. However, the adoption of AI in healthcare raises concerns about data privacy, security vulnerabilities, and potential job displacement. Ethical dilemmas regarding patient consent, bias in algorithms, and equitable access to AI technologies must be addressed for responsible implementation. Artificial intelligence (AI) is increasingly being utilized in healthcare for tasks like analyzing medical imaging scans and providing mental health support through chatbots. AI can detect abnormalities in scans that may be missed by human eyes and offer timely assistance to individuals in need. However, concerns exist regarding the reliability of AI in healthcare, as the accuracy of AI models is dependent on the quality of the data used to train them. Biased or incomplete data can lead to incorrect diagnoses and treatment recommendations, posing potential harm to patients. The adoption of AI in healthcare has raised concerns about privacy due to the risk of cyberattacks exposing sensitive patient information. In the finance industry, AI is being used to improve decision-making, enhance customer service, and detect fraudulent activities. AI-driven algorithms analyze market trends, predict stock prices, and optimize investment portfolios. Robo-advisors, powered by AI, provide personalized financial advice to users, aiding them in managing their investments effectively. AI in finance is helping automate tasks like loan processing and customer inquiries, which cuts operational costs. But using AI models for financial decisions can result in unintended outcomes, especially if these models lack transparency. The \"black box\" nature of some AI systems makes it hard to understand decision-making processes and may lead to challenges. The text discusses concerns about accountability in using AI technology, particularly in the finance sector. Access to AI-powered financial services is limited to certain groups, potentially worsening existing inequalities. In transportation, AI is driving significant transformation with the emergence of self-driving cars and drones. These autonomous vehicles have the potential to enhance road safety, reduce emissions, and enhance mobility. AI algorithms in autonomous vehicles help individuals with disabilities by enabling safer and more efficient transportation options. These algorithms assist vehicles in navigating complex environments, recognizing objects, and making real-time decisions. Additionally, AI is utilized to optimize public transportation systems, ultimately reducing congestion and increasing overall efficiency. Despite the benefits, the widespread adoption of autonomous vehicles presents challenges such as ensuring the safety and reliability of self-driving cars, as errors in AI algorithms could lead to severe accidents. The focus is on addressing these concerns to harness the full potential of AI technology for individuals with disabilities. AI is being deployed in autonomous vehicles which raises ethical concerns about decision-making in life-threatening situations. The impact of AI on employment in transportation is a concern due to potential job losses for drivers and other workers. In education, AI is enhancing learning experiences by providing personalized learning, automating administrative tasks, and providing support. AI is being used to assist educators in delivering quality instruction by assessing students' strengths and weaknesses and offering tailored recommendations to help them improve. Adaptive learning systems adjust the difficulty of exercises based on students' performance to keep them challenged without feeling overwhelmed. AI chatbots are also being used to help students with homework and answer their questions in real-time. While AI has the potential to enhance the learning experience, it is not meant to replace human educators but to complement their efforts in providing personalized support to students. The use of AI in education offers benefits but also brings challenges. Concerns include data privacy issues as students' learning data may be collected without their consent. Over-reliance on AI may diminish the role of human interaction in the learning process. Implementing AI in education requires substantial investment that may not always be feasible. Addressing these challenges is crucial for maximizing the potential benefits of AI in education. The rapid development of AI technology raises significant ethical concerns that need to be addressed by society. A key issue is the potential for AI to perpetuate biases and discrimination due to its reliance on historical data for training. This can lead to unfair outcomes in crucial areas like hiring processes, lending decisions, and law enforcement actions. To ensure a fair and equitable future for AI, it is essential for institutions to actively address and mitigate these ethical challenges. Looking ahead, addressing these ethical considerations will be crucial for shaping the future of AI technology and its impact on society. To address concerns related to AI, ethical guidelines and frameworks for responsible use are crucial. Transparency in AI systems is essential to ensure explainable decision-making processes. Accountability mechanisms must be in place to address any harm caused by AI-driven decisions. It is important for society to consider the broader implications of AI use, including its impact on employment and privacy as the technology continues to evolve. Artificial intelligence (AI) has the capacity to revolutionize society positively with benefits across different industries, but its adoption poses considerable challenges. Ethical considerations must be prioritized to manage the responsible use of AI for a better future. Striking a balance between innovation and caution is essential to ensure that AI benefits everyone. Addressing human rights and maintaining ethical standards is crucial in harnessing the power of AI for societal progress. Amid advancements, ensuring that AI serves the best interests of humanity is paramount. The text discusses the future prospects of humanity in the context of advancements in technology and the potential for human enhancement. It addresses the possibility of integrating technology into the human body to enhance physical and cognitive abilities. The text also explores the ethical implications and risks associated with these advancements, such as concerns about privacy, inequality, and unintended consequences. It highlights the importance of considering these ethical issues and potential risks as we continue to progress in the field of human enhancement technologies. Overall, the text raises thought-provoking questions about the future of humanity and the role of technology in shaping our evolution.\n"
     ]
    }
   ],
   "source": [
    "file = \"example_document.txt\"\n",
    "\n",
    "try:\n",
    "    summary = summarize_file(file)\n",
    "    print(f\"Document Summary:\\n{summary}\")\n",
    "    \n",
    "except FileNotFoundError as e:\n",
    "    print(e)"
   ]
  },
  {
   "cell_type": "code",
   "execution_count": null,
   "id": "8d45708f-8f5f-4344-b8ea-68cd38bacd7b",
   "metadata": {},
   "outputs": [],
   "source": []
  }
 ],
 "metadata": {
  "kernelspec": {
   "display_name": "Python 3 (ipykernel)",
   "language": "python",
   "name": "python3"
  },
  "language_info": {
   "codemirror_mode": {
    "name": "ipython",
    "version": 3
   },
   "file_extension": ".py",
   "mimetype": "text/x-python",
   "name": "python",
   "nbconvert_exporter": "python",
   "pygments_lexer": "ipython3",
   "version": "3.8.10"
  }
 },
 "nbformat": 4,
 "nbformat_minor": 5
}
